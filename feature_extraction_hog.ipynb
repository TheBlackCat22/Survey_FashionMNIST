{
 "cells": [
  {
   "cell_type": "code",
   "execution_count": 1,
   "metadata": {},
   "outputs": [],
   "source": [
    "from tqdm import tqdm\n",
    "import torch\n",
    "from torchvision import transforms\n",
    "from torch.utils.data import DataLoader, random_split\n",
    "from torchvision.datasets import FashionMNIST\n",
    "from skimage.feature import hog\n",
    "from skimage import exposure\n",
    "import numpy as np"
   ]
  },
  {
   "cell_type": "markdown",
   "metadata": {},
   "source": [
    "# Extracting HOG Features"
   ]
  },
  {
   "cell_type": "code",
   "execution_count": 2,
   "metadata": {},
   "outputs": [],
   "source": [
    "\n",
    "train_data = FashionMNIST(root='./Data', download=True, train=True, transform=transforms.Compose(\n",
    "    [transforms.ToTensor(), transforms.Normalize(mean=0.2860, std=0.3530)]))\n",
    "test_data = FashionMNIST(root='./Data', download=True, train=False, transform=transforms.Compose(\n",
    "    [transforms.ToTensor(), transforms.Normalize(mean=0.2860, std=0.3530)]))\n",
    "\n",
    "train_data, val_data = random_split(\n",
    "    train_data, [55000, 5000], generator=torch.Generator().manual_seed(10))\n",
    "\n",
    "data = {'train': train_data,\n",
    "        'val': val_data,\n",
    "        'test': test_data}"
   ]
  },
  {
   "cell_type": "code",
   "execution_count": 3,
   "metadata": {},
   "outputs": [
    {
     "name": "stdout",
     "output_type": "stream",
     "text": [
      "\n",
      "Extracting train Features...\n"
     ]
    },
    {
     "name": "stderr",
     "output_type": "stream",
     "text": [
      "  0%|          | 0/55000 [00:00<?, ?it/s]"
     ]
    },
    {
     "name": "stderr",
     "output_type": "stream",
     "text": [
      "100%|██████████| 55000/55000 [00:43<00:00, 1262.16it/s]\n"
     ]
    },
    {
     "name": "stdout",
     "output_type": "stream",
     "text": [
      "\n",
      "Extracting val Features...\n"
     ]
    },
    {
     "name": "stderr",
     "output_type": "stream",
     "text": [
      "100%|██████████| 5000/5000 [00:06<00:00, 737.83it/s] \n"
     ]
    },
    {
     "name": "stdout",
     "output_type": "stream",
     "text": [
      "\n",
      "Extracting test Features...\n"
     ]
    },
    {
     "name": "stderr",
     "output_type": "stream",
     "text": [
      "100%|██████████| 10000/10000 [00:10<00:00, 921.24it/s]\n"
     ]
    },
    {
     "name": "stdout",
     "output_type": "stream",
     "text": [
      "\n",
      "Feature Dict Saved to,  ./Data/Features/hog_features.pt\n"
     ]
    }
   ],
   "source": [
    "save_path = './Data/Features/hog_features.pt'\n",
    "# batch_size = 512\n",
    "batch_size = 1\n",
    "\n",
    "features = {}\n",
    "for key, value in data.items():\n",
    "    print(f'\\nExtracting {key} Features...')\n",
    "\n",
    "    loader = DataLoader(value, batch_size, shuffle=False, num_workers=3)\n",
    "\n",
    "    running_features, running_labels = [], []\n",
    "    for image, label in tqdm(loader):\n",
    "        # Compute HOG features for each image\n",
    "        image = np.squeeze(image.numpy())\n",
    "        fd= hog(image, orientations=16, pixels_per_cell=(8, 8), cells_per_block=(2, 2), block_norm='L2-Hys')\n",
    "        running_features.append(fd)\n",
    "        # print(np.array(running_features).shape)\n",
    "        running_labels.append(label.item())\n",
    "        # print(fd.shape)\n",
    "\n",
    "    features[key] = [np.array(running_features), np.array(running_labels)]\n",
    "\n",
    "torch.save(features, save_path)\n",
    "print(\"\\nFeature Dict Saved to, \", save_path)"
   ]
  },
  {
   "cell_type": "code",
   "execution_count": null,
   "metadata": {},
   "outputs": [],
   "source": []
  }
 ],
 "metadata": {
  "kernelspec": {
   "display_name": "Python 3 (ipykernel)",
   "language": "python",
   "name": "python3"
  },
  "language_info": {
   "codemirror_mode": {
    "name": "ipython",
    "version": 3
   },
   "file_extension": ".py",
   "mimetype": "text/x-python",
   "name": "python",
   "nbconvert_exporter": "python",
   "pygments_lexer": "ipython3",
   "version": "3.9.18"
  }
 },
 "nbformat": 4,
 "nbformat_minor": 2
}
